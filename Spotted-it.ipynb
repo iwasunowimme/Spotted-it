{
 "cells": [
  {
   "cell_type": "code",
   "execution_count": 1,
   "id": "da435872",
   "metadata": {},
   "outputs": [],
   "source": [
    "import cv2\n",
    "from os import listdir"
   ]
  },
  {
   "cell_type": "code",
   "execution_count": 2,
   "id": "c8676837",
   "metadata": {},
   "outputs": [],
   "source": [
    "# Folder name where the images are kept\n",
    "image_dir = \"Images\"\n",
    "list_dir = listdir(image_dir)"
   ]
  },
  {
   "cell_type": "code",
   "execution_count": 3,
   "id": "e5e14b20",
   "metadata": {},
   "outputs": [],
   "source": [
    "# Global values store\n",
    "contours_all = []\n",
    "images = []\n",
    "for image_num in list_dir:   # For each item in folder\n",
    "    if image_num[-3:] == \"png\":  # if it is a PNG\n",
    "        # Read file and add to list\n",
    "        image = cv2.imread(image_dir + \"/\" + image_num)  \n",
    "        images.append(image)\n",
    "        \n",
    "        # Convert image to gray than to black\n",
    "        grey_image = cv2.cvtColor(image, cv2.COLOR_BGR2GRAY)\n",
    "        _, blackAndWhiteImage = cv2.threshold(grey_image,  200, 255, cv2.THRESH_BINARY)  # 200 threshold for lighter pictures\n",
    "        blackAndWhiteImage = 255 - blackAndWhiteImage  # get the negative of the image\n",
    "        \n",
    "        # Get the contours of the image and add to list\n",
    "        contours, _ = cv2.findContours(blackAndWhiteImage, cv2.RETR_TREE, cv2.CHAIN_APPROX_SIMPLE)\n",
    "        contours_all.append(contours)"
   ]
  },
  {
   "cell_type": "code",
   "execution_count": 4,
   "id": "725016a0",
   "metadata": {},
   "outputs": [],
   "source": [
    "def run_and_display(img_a_name, img_b_name, contours, images):\n",
    "    '''\n",
    "    This function compares the contours of images and prints the matching contour between the two\n",
    "    INPUTS: img_a_name, imag_b_name Strings of the file name that the image is to compare\n",
    "            contours: the list of all contours\n",
    "            images: the list of all images\n",
    "    OUTPUTS: Produce the two images with their matching contours highlighted\n",
    "    RETURNS: None\n",
    "    '''\n",
    "    img_a_index = 0\n",
    "    img_b_index = 0\n",
    "    # Find the index of the img in the list (as the index will be from its input order)\n",
    "    for row, file_name in  enumerate(list_dir):\n",
    "        tester = file_name[:-4]  # Remove \".png\"\n",
    "        if tester == img_a_name:\n",
    "            img_a_index = row\n",
    "        if tester == img_b_name:\n",
    "            img_b_index = row\n",
    "            \n",
    "    # set the images        \n",
    "    img_a = images[img_a_index].copy()\n",
    "    img_b = images[img_b_index].copy()\n",
    "    \n",
    "    cnt_img_a = []\n",
    "    cnt_img_b = []\n",
    "    \n",
    "    min_match = 10 # set a minimum match value to compare to (matches close to 0 are stronger)\n",
    "    \n",
    "    # Threshold area is created as to not use small artifacts\n",
    "    threshold_area_min = 1500      \n",
    "    threshold_area_max = 200000\n",
    "    \n",
    "    # compare all contours to one another\n",
    "    for a in contours[img_a_index]:\n",
    "        area_a = cv2.contourArea(a)  # find the area for each contour and test to see if it is relevant\n",
    "        if  area_a > threshold_area_min and area_a < threshold_area_max :\n",
    "            for b in contours[img_b_index]:\n",
    "                area_b = cv2.contourArea(b)  # find the area for each contour and test to see if it is relevant\n",
    "                if  area_b > threshold_area_min and area_b < threshold_area_max :\n",
    "                    match = cv2.matchShapes(a,b,1,0.0)  # match shape using method '1'\n",
    "                    # check if match is new best\n",
    "                    if match < min_match:\n",
    "                        min_match = match\n",
    "                        cnt_img_a = a\n",
    "                        cnt_img_b = b\n",
    "                        \n",
    "    # Draw the contours and print each image\n",
    "    cv2.drawContours(img_a,[cnt_img_a],0,(200,100,0),10)\n",
    "    cv2.imshow(\"Image a\",img_a)\n",
    "    cv2.drawContours(img_b,[cnt_img_b],0,(200,100,0),10)\n",
    "    cv2.imshow(\"Image b\",img_b)\n",
    "    cv2.waitKey(0)\n",
    "    cv2.destroyAllWindows()"
   ]
  },
  {
   "cell_type": "code",
   "execution_count": 5,
   "id": "7059ef58",
   "metadata": {},
   "outputs": [],
   "source": [
    "def run_all():\n",
    "    '''\n",
    "    This function will run through every combination of the shapes, including with themselves\n",
    "    INPUTS: none\n",
    "    OUTPUTS: output of the run_and_display function  (Produce the two images with their matching contours highlighted)\n",
    "    RETURNS: none\n",
    "    '''\n",
    "    for i in range(len(images)):\n",
    "        for j in range(i, len(images)):\n",
    "            run_and_display(str(i), str(j), contours_all, images)"
   ]
  },
  {
   "cell_type": "code",
   "execution_count": 6,
   "id": "69c35669",
   "metadata": {},
   "outputs": [],
   "source": [
    "# run_all()"
   ]
  },
  {
   "cell_type": "code",
   "execution_count": 7,
   "id": "d763520d",
   "metadata": {},
   "outputs": [
    {
     "name": "stdout",
     "output_type": "stream",
     "text": [
      "Image name 1? 2\n",
      "Image name 2? 3\n"
     ]
    }
   ],
   "source": [
    "# Ask for two images to be compares\n",
    "image_a = input(\"Image name 1? \")\n",
    "image_b = input(\"Image name 2? \")\n",
    "run_and_display(image_a, image_b, contours_all, images)"
   ]
  },
  {
   "cell_type": "code",
   "execution_count": 8,
   "id": "41932552",
   "metadata": {},
   "outputs": [],
   "source": [
    "import zipfile"
   ]
  },
  {
   "cell_type": "code",
   "execution_count": 9,
   "id": "317a500f",
   "metadata": {},
   "outputs": [],
   "source": [
    "with zipfile.ZipFile('images.zip', 'r') as zip_ref:\n",
    "    zip_ref.extractall('temp')"
   ]
  },
  {
   "cell_type": "code",
   "execution_count": 10,
   "id": "879c9cb9",
   "metadata": {},
   "outputs": [],
   "source": [
    "temp_dir = \"temp\"\n",
    "list_temp_dir = listdir(temp_dir)"
   ]
  },
  {
   "cell_type": "code",
   "execution_count": 11,
   "id": "12b27800",
   "metadata": {},
   "outputs": [
    {
     "data": {
      "text/plain": [
       "['1.png', '6.png']"
      ]
     },
     "execution_count": 11,
     "metadata": {},
     "output_type": "execute_result"
    }
   ],
   "source": [
    "list_temp_dir"
   ]
  },
  {
   "cell_type": "code",
   "execution_count": 12,
   "id": "c9949871",
   "metadata": {},
   "outputs": [],
   "source": [
    "contours_to_compare = []\n",
    "images_to_compare = []\n",
    "for image_num in list_temp_dir:   # For each item in folder\n",
    "    if image_num[-3:] == \"png\":  # if it is a PNG\n",
    "        # Read file and add to list\n",
    "        image = cv2.imread(image_dir + \"/\" + image_num)  \n",
    "        images_to_compare.append(image)\n",
    "        \n",
    "        # Convert image to gray than to black\n",
    "        grey_image = cv2.cvtColor(image, cv2.COLOR_BGR2GRAY)\n",
    "        _, blackAndWhiteImage = cv2.threshold(grey_image,  200, 255, cv2.THRESH_BINARY)  # 200 threshold for lighter pictures\n",
    "        blackAndWhiteImage = 255 - blackAndWhiteImage  # get the negative of the image\n",
    "        \n",
    "        # Get the contours of the image and add to list\n",
    "        contours, _ = cv2.findContours(blackAndWhiteImage, cv2.RETR_TREE, cv2.CHAIN_APPROX_SIMPLE)\n",
    "        contours_to_compare.append(contours)\n",
    "        \n",
    "img_a_index = 0\n",
    "img_b_index = 1\n",
    "# set the images        \n",
    "img_a = images_to_compare[img_a_index].copy()\n",
    "img_b = images_to_compare[img_b_index].copy()\n",
    "    \n",
    "cnt_img_a = []\n",
    "cnt_img_b = []\n",
    "    \n",
    "min_match = 10 # set a minimum match value to compare to (matches close to 0 are stronger)\n",
    "    \n",
    "# Threshold area is created as to not use small artifacts\n",
    "threshold_area_min = 1500      \n",
    "threshold_area_max = 200000\n",
    "    \n",
    "# compare all contours to one another\n",
    "for a in contours_to_compare[img_a_index]:\n",
    "    area_a = cv2.contourArea(a)  # find the area for each contour and test to see if it is relevant\n",
    "    if  area_a > threshold_area_min and area_a < threshold_area_max :\n",
    "        for b in contours_to_compare[img_b_index]:\n",
    "            area_b = cv2.contourArea(b)  # find the area for each contour and test to see if it is relevant\n",
    "            if  area_b > threshold_area_min and area_b < threshold_area_max :\n",
    "                match = cv2.matchShapes(a,b,1,0.0)  # match shape using method '1'\n",
    "                # check if match is new best\n",
    "                if match < min_match:\n",
    "                    min_match = match\n",
    "                    cnt_img_a = a\n",
    "                    cnt_img_b = b\n",
    "                        \n",
    "# Draw the contours and print each image\n",
    "cv2.drawContours(img_a,[cnt_img_a],0,(200,100,0),10)\n",
    "cv2.imshow(\"Image a\",img_a)\n",
    "cv2.drawContours(img_b,[cnt_img_b],0,(200,100,0),10)\n",
    "cv2.imshow(\"Image b\",img_b)\n",
    "cv2.waitKey(0)\n",
    "cv2.destroyAllWindows()\n"
   ]
  },
  {
   "cell_type": "code",
   "execution_count": 13,
   "id": "51c2fc71",
   "metadata": {},
   "outputs": [
    {
     "data": {
      "text/plain": [
       "['.git',\n",
       " '.gitattributes',\n",
       " '.gitignore',\n",
       " '.ipynb_checkpoints',\n",
       " 'Images',\n",
       " 'images.zip',\n",
       " 'Images1.zip',\n",
       " 'Images_archive',\n",
       " 'README.md',\n",
       " 'Spotted-it-function.py',\n",
       " 'Spotted-it.ipynb',\n",
       " 'Spotted-it.py']"
      ]
     },
     "execution_count": 13,
     "metadata": {},
     "output_type": "execute_result"
    }
   ],
   "source": [
    "listdir()"
   ]
  },
  {
   "cell_type": "code",
   "execution_count": null,
   "id": "96b952f2",
   "metadata": {},
   "outputs": [],
   "source": []
  }
 ],
 "metadata": {
  "kernelspec": {
   "display_name": "Python 3",
   "language": "python",
   "name": "python3"
  },
  "language_info": {
   "codemirror_mode": {
    "name": "ipython",
    "version": 3
   },
   "file_extension": ".py",
   "mimetype": "text/x-python",
   "name": "python",
   "nbconvert_exporter": "python",
   "pygments_lexer": "ipython3",
   "version": "3.7.10"
  }
 },
 "nbformat": 4,
 "nbformat_minor": 5
}
